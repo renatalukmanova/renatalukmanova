{
 "cells": [
  {
   "cell_type": "code",
   "execution_count": 1,
   "metadata": {},
   "outputs": [],
   "source": [
    "import numpy as np\n",
    "import matplotlib.pyplot as plt"
   ]
  },
  {
   "cell_type": "code",
   "execution_count": null,
   "metadata": {},
   "outputs": [],
   "source": [
    "A  = np.array([[3, 1, 0, 0], [1, 2, 0, 1], [0,0,1,1], [0, 1, 1, 1]])\n",
    "psi = np.random.normal(0, 1, 4)\n",
    "psi /= np.sqrt(psi @ psi)"
   ]
  },
  {
   "cell_type": "code",
   "execution_count": null,
   "metadata": {},
   "outputs": [],
   "source": [
    "for i in range(10):\n",
    "    psi = A @ psi\n",
    "    psi /= np.sqrt(psi @ psi)\n",
    "    b = ((psi.T @ A @ psi)/(psi @ psi))"
   ]
  },
  {
   "cell_type": "code",
   "execution_count": null,
   "metadata": {},
   "outputs": [],
   "source": [
    "b_true = np.linalg.eigvals(A)\n",
    "b_true[0]"
   ]
  },
  {
   "cell_type": "code",
   "execution_count": null,
   "metadata": {},
   "outputs": [],
   "source": [
    "psi = np.random.normal(0, 1, 4)\n",
    "psi /= np.sqrt(psi @ psi)"
   ]
  },
  {
   "cell_type": "code",
   "execution_count": null,
   "metadata": {},
   "outputs": [],
   "source": [
    "mu = 3.5"
   ]
  },
  {
   "cell_type": "code",
   "execution_count": null,
   "metadata": {},
   "outputs": [],
   "source": [
    "for i in range(10):\n",
    "    psi = np.linalg.inv(A - mu*np.eye(4)) @ psi\n",
    "    psi /= np.sqrt(psi @ psi)\n",
    "    b = ((psi.T @ A @ psi)/(psi @ psi))"
   ]
  },
  {
   "cell_type": "code",
   "execution_count": null,
   "metadata": {},
   "outputs": [],
   "source": [
    "mu = 3.7\n",
    "for i in range(10):\n",
    "    np.linalg.inv(A - mu*np.eye(4)) @ psi\n",
    "    psi /= np.sqrt(psi @ psi)\n",
    "    b = ((psi.T @ A @ psi)/(psi @ psi))"
   ]
  },
  {
   "cell_type": "code",
   "execution_count": null,
   "metadata": {},
   "outputs": [],
   "source": [
    "sys = np.linalg.eigh(A)"
   ]
  },
  {
   "cell_type": "code",
   "execution_count": null,
   "metadata": {},
   "outputs": [],
   "source": [
    "psi_true = sys[1][:, -1]\n",
    "psi_true"
   ]
  },
  {
   "cell_type": "code",
   "execution_count": null,
   "metadata": {},
   "outputs": [],
   "source": [
    "psi = psi * np.sign(psi[0]) / np.sign(psi_true[0])"
   ]
  },
  {
   "cell_type": "code",
   "execution_count": null,
   "metadata": {},
   "outputs": [],
   "source": [
    "np.linalg.norm(psi - psi_true)"
   ]
  },
  {
   "cell_type": "code",
   "execution_count": null,
   "metadata": {},
   "outputs": [],
   "source": [
    "err = []\n",
    "for i in range(32):\n",
    "    psi = A @ psi\n",
    "    psi /= np.sqrt(psi @ psi)\n",
    "    psi = psi * np.sign(psi[0]) / np.sign(psi_true[0])\n",
    "    err += [np.linalg.norm(psi - psi_true)]"
   ]
  },
  {
   "cell_type": "code",
   "execution_count": null,
   "metadata": {},
   "outputs": [],
   "source": [
    "plt.plot(err)\n",
    "plt.yscale('log')"
   ]
  }
 ],
 "metadata": {
  "kernelspec": {
   "display_name": "Python 3",
   "language": "python",
   "name": "python3"
  },
  "language_info": {
   "codemirror_mode": {
    "name": "ipython",
    "version": 3
   },
   "file_extension": ".py",
   "mimetype": "text/x-python",
   "name": "python",
   "nbconvert_exporter": "python",
   "pygments_lexer": "ipython3",
   "version": "3.8.3"
  }
 },
 "nbformat": 4,
 "nbformat_minor": 4
}
