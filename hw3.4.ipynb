{
 "cells": [
  {
   "cell_type": "code",
   "execution_count": 1,
   "metadata": {},
   "outputs": [],
   "source": [
    "import numpy as np\n",
    "import matplotlib.pyplot as plt"
   ]
  },
  {
   "cell_type": "code",
   "execution_count": 2,
   "metadata": {},
   "outputs": [],
   "source": [
    "x = np.array([-1, -0.7, -0.43, -0.14, 0.43])\n",
    "y = np.array([-2.25, -0.77, 0.21, 0.44, 0.03])"
   ]
  },
  {
   "cell_type": "code",
   "execution_count": 8,
   "metadata": {},
   "outputs": [
    {
     "data": {
      "text/plain": [
       "array([[ 1.    , -1.    ,  1.    ],\n",
       "       [ 1.    , -0.7   ,  0.49  ],\n",
       "       [ 1.    , -0.43  ,  0.1849],\n",
       "       [ 1.    , -0.14  ,  0.0196],\n",
       "       [ 1.    ,  0.43  ,  0.1849]])"
      ]
     },
     "execution_count": 8,
     "metadata": {},
     "output_type": "execute_result"
    }
   ],
   "source": [
    "n = len(x)\n",
    "def design_matrix(x,n):\n",
    "    A = np.zeros((len(x),n))\n",
    "    for i in range(n):\n",
    "        A[:,i] = x**i\n",
    "    return A\n",
    "A0 = design_matrix(x,3)\n"
   ]
  },
  {
   "cell_type": "code",
   "execution_count": 9,
   "metadata": {},
   "outputs": [
    {
     "data": {
      "text/plain": [
       "array([ 0.59359686, -0.10422885, -2.92634107])"
      ]
     },
     "execution_count": 9,
     "metadata": {},
     "output_type": "execute_result"
    }
   ],
   "source": [
    "t = np.linalg.solve(A0.T @ A0, A0.T @ y)\n"
   ]
  },
  {
   "cell_type": "code",
   "execution_count": 10,
   "metadata": {},
   "outputs": [
    {
     "data": {
      "text/plain": [
       "array([ 0.959776  ,  5.77035877, 10.54036491, 15.31489736, 54.19635065])"
      ]
     },
     "execution_count": 10,
     "metadata": {},
     "output_type": "execute_result"
    }
   ],
   "source": [
    "sig = np.zeros(n)\n",
    "for i in range(n):\n",
    "    A0 = design_matrix(x,i+1)\n",
    "    t = np.linalg.solve(A0.T @ A0, A0.T @ y)\n",
    "    sig[i] = np.sum([(np.polyval(t, x[j]) - y[j])**2 for j in range(n)]) / (n - i)\n"
   ]
  },
  {
   "cell_type": "code",
   "execution_count": 11,
   "metadata": {},
   "outputs": [
    {
     "data": {
      "image/png": "[encoded data removed]",
      "text/plain": [
       "<Figure size 432x288 with 1 Axes>"
      ]
     },
     "metadata": {
      "needs_background": "light"
     },
     "output_type": "display_data"
    }
   ],
   "source": [
    "plt.scatter(x, y)\n",
    "xp = np.linspace(-1, 3, 100)\n",
    "A0 = design_matrix(x,4)\n",
    "t = np.linalg.solve(A0.T @ A0, A0.T @ y)\n",
    "plt.plot(x, np.polyval(t, x), label='P{}'.format(str(4)))\n",
    "\n",
    "plt.legend()\n",
    "plt.show()"
   ]
  },
  {
   "cell_type": "code",
   "execution_count": 12,
   "metadata": {},
   "outputs": [
    {
     "name": "stdout",
     "output_type": "stream",
     "text": [
      "[ 0.49679123 -0.24058856 -2.29398284  0.70988817]\n",
      "[ 0.49679123 -0.24058856 -2.29398284  0.70988817]\n",
      "[ 2.10942375e-15  2.24820162e-15 -1.50990331e-14 -1.57651669e-14]\n"
     ]
    }
   ],
   "source": [
    "m = 4\n",
    "A = design_matrix(x,4)\n",
    "Q, R = np.linalg.qr(A)\n",
    "t = np.linalg.inv(R) @ Q.T @ y\n",
    "t0 = np.linalg.solve(A.T @ A, A.T @ y)\n",
    "print(t)\n",
    "print(t0)\n",
    "print(t-t0)"
   ]
  }
 ],
 "metadata": {
  "kernelspec": {
   "display_name": "Python 3",
   "language": "python",
   "name": "python3"
  },
  "language_info": {
   "codemirror_mode": {
    "name": "ipython",
    "version": 3
   },
   "file_extension": ".py",
   "mimetype": "text/x-python",
   "name": "python",
   "nbconvert_exporter": "python",
   "pygments_lexer": "ipython3",
   "version": "3.8.3"
  }
 },
 "nbformat": 4,
 "nbformat_minor": 4
}
