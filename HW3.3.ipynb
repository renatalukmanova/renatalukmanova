{
 "cells": [
  {
   "cell_type": "code",
   "execution_count": 1,
   "metadata": {},
   "outputs": [],
   "source": [
    "import numpy as np\n",
    "import matplotlib.pyplot as plt"
   ]
  },
  {
   "cell_type": "code",
   "execution_count": 2,
   "metadata": {},
   "outputs": [],
   "source": [
    "a = np.zeros((15, 28))\n",
    "a[2:-2,1] = 1; a[2,1:6] = 1\n",
    "a[2:7,6] = 1; a[7:-2,7] = 1\n",
    "a[7,2:7] = 1; a[-3,2:7] = 1\n",
    "a[2:-2, 10] = 1; a[2:-2, 14] = 1; \n",
    "a[2:-2, 18] = 1; a[-3,10:19] = 1;\n",
    "a[2:13,26] = 1;\n",
    "a[2,21:26] = 1; a[7,21:26] = 1; a[12,21:26] = 1"
   ]
  },
  {
   "cell_type": "code",
   "execution_count": null,
   "metadata": {},
   "outputs": [],
   "source": [
    "plt.imshow(a, cmap = 'gray')"
   ]
  },
  {
   "cell_type": "code",
   "execution_count": null,
   "metadata": {},
   "outputs": [],
   "source": [
    "u, s, vh = np.linalg.svd(a)"
   ]
  },
  {
   "cell_type": "code",
   "execution_count": null,
   "metadata": {},
   "outputs": [],
   "source": [
    "np.linalg.matrix_rank(a)"
   ]
  },
  {
   "cell_type": "code",
   "execution_count": null,
   "metadata": {},
   "outputs": [],
   "source": [
    "v = vh.T\n",
    "u1 = u[:,0]\n",
    "v1 = v[:,0]\n",
    "a_appr1 = s[0]*u1[:, np.newaxis] @ v1[np.newaxis,:]"
   ]
  },
  {
   "cell_type": "code",
   "execution_count": null,
   "metadata": {},
   "outputs": [],
   "source": [
    "plt.imshow(a_appr1, cmap='gray')"
   ]
  },
  {
   "cell_type": "code",
   "execution_count": null,
   "metadata": {},
   "outputs": [],
   "source": [
    "u1 = u[:,0]\n",
    "u2 = u[:,1]\n",
    "v1 = v[:,0]\n",
    "v2 = v[:,1]\n",
    "a_appr2 = s[0]*u1[:, np.newaxis] @ v1[np.newaxis,:] + s[1]*u2[:, np.newaxis] @ v2[np.newaxis,:]\n",
    "plt.imshow(a_appr2, cmap='gray')"
   ]
  },
  {
   "cell_type": "code",
   "execution_count": null,
   "metadata": {},
   "outputs": [],
   "source": [
    "u1 = u[:,0]\n",
    "u2 = u[:,1]\n",
    "u3 = u[:,2]\n",
    "v1 = v[:,0]\n",
    "v2 = v[:,1]\n",
    "v3 = v[:,2]\n",
    "a_appr3 = s[0]*u1[:, np.newaxis] @ v1[np.newaxis,:] + s[1]*u2[:, np.newaxis] @ v2[np.newaxis,:] + s[2]*u3[:, np.newaxis] @ v3[np.newaxis,:]\n",
    "plt.imshow(a_appr3, cmap='gray')"
   ]
  },
  {
   "cell_type": "code",
   "execution_count": null,
   "metadata": {},
   "outputs": [],
   "source": [
    "u1 = u[:,0]\n",
    "u2 = u[:,1]\n",
    "u3 = u[:,2]\n",
    "u4 = u[:,3]\n",
    "v1 = v[:,0]\n",
    "v2 = v[:,1]\n",
    "v3 = v[:,2]\n",
    "v4 = v[:,3]\n",
    "a_appr3 = s[0]*u1[:, np.newaxis] @ v1[np.newaxis,:] + s[1]*u2[:, np.newaxis] @ v2[np.newaxis,:] + s[2]*u3[:, np.newaxis] @ v3[np.newaxis,:] + s[3]*u4[:, np.newaxis] @ v4[np.newaxis,:]\n",
    "plt.imshow(a_appr3, cmap='gray')"
   ]
  },
  {
   "cell_type": "code",
   "execution_count": null,
   "metadata": {},
   "outputs": [],
   "source": [
    "u1 = u[:,0]\n",
    "u2 = u[:,1]\n",
    "u3 = u[:,2]\n",
    "u4 = u[:,3]\n",
    "u5 = u[:,4]\n",
    "v1 = v[:,0]\n",
    "v2 = v[:,1]\n",
    "v3 = v[:,2]\n",
    "v4 = v[:,3]\n",
    "v5 = v[:,4]\n",
    "a_appr3 = s[0]*u1[:, np.newaxis] @ v1[np.newaxis,:] + s[1]*u2[:, np.newaxis] @ v2[np.newaxis,:] + s[2]*u3[:, np.newaxis] @ v3[np.newaxis,:] + s[3]*u4[:, np.newaxis] @ v4[np.newaxis,:] + s[4]*u5[:, np.newaxis] @ v5[np.newaxis,:]\n",
    "plt.imshow(a_appr3, cmap='gray')"
   ]
  }
 ],
 "metadata": {
  "kernelspec": {
   "display_name": "Python 3",
   "language": "python",
   "name": "python3"
  },
  "language_info": {
   "codemirror_mode": {
    "name": "ipython",
    "version": 3
   },
   "file_extension": ".py",
   "mimetype": "text/x-python",
   "name": "python",
   "nbconvert_exporter": "python",
   "pygments_lexer": "ipython3",
   "version": "3.8.3"
  }
 },
 "nbformat": 4,
 "nbformat_minor": 4
}
