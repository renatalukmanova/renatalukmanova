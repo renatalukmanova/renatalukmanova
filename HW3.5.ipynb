{
 "cells": [
  {
   "cell_type": "code",
   "execution_count": 1,
   "metadata": {},
   "outputs": [],
   "source": [
    "import numpy as np\n",
    "import matplotlib.pyplot as plt"
   ]
  },
  {
   "cell_type": "code",
   "execution_count": 2,
   "metadata": {},
   "outputs": [],
   "source": [
    "A = np.zeros((2,10))\n",
    "for i in range(10):\n",
    "    A[0,i] = (2*(10-i)-1) / 2\n",
    "    A[1,i] = 1"
   ]
  },
  {
   "cell_type": "code",
   "execution_count": 3,
   "metadata": {},
   "outputs": [
    {
     "name": "stdout",
     "output_type": "stream",
     "text": [
      "[ 0.05454545  0.04242424  0.03030303  0.01818182  0.00606061 -0.00606061\n",
      " -0.01818182 -0.03030303 -0.04242424 -0.05454545]\n"
     ]
    }
   ],
   "source": [
    "U, S, Vh = np.linalg.svd(A)\n",
    "k = np.eye(2, 10)\n",
    "k[0,0] = S[0]\n",
    "k[1,1] = S[1]\n",
    "a = [1, 0]\n",
    "vtc = Vh.T.conj()\n",
    "utc = U.T.conj()\n",
    "f = vtc @ np.linalg.pinv(k) @ utc @ a\n",
    "print(f)"
   ]
  },
  {
   "cell_type": "code",
   "execution_count": null,
   "metadata": {},
   "outputs": [],
   "source": []
  }
 ],
 "metadata": {
  "kernelspec": {
   "display_name": "Python 3",
   "language": "python",
   "name": "python3"
  },
  "language_info": {
   "codemirror_mode": {
    "name": "ipython",
    "version": 3
   },
   "file_extension": ".py",
   "mimetype": "text/x-python",
   "name": "python",
   "nbconvert_exporter": "python",
   "pygments_lexer": "ipython3",
   "version": "3.8.3"
  }
 },
 "nbformat": 4,
 "nbformat_minor": 4
}
